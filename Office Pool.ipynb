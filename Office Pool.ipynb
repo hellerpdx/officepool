{
 "metadata": {
  "name": ""
 },
 "nbformat": 3,
 "nbformat_minor": 0,
 "worksheets": [
  {
   "cells": [
    {
     "cell_type": "markdown",
     "metadata": {},
     "source": [
      "## Processing the CSV file"
     ]
    },
    {
     "cell_type": "code",
     "collapsed": false,
     "input": [
      "import pandas as pd\n",
      "import vincent\n",
      "import random\n",
      "vincent.core.initialize_notebook()\n",
      "\n",
      "cats = ['y1', 'y2', 'y3','y4']\n",
      "index = range(1,21,1)\n",
      "# multi_iter1 = {'index':index}\n",
      "\n",
      "# for cat in cats:\n",
      "#     multi_iter1[cat] = [random.randint(10,100) for x in index]\n",
      "\n",
      "df = pd.read_csv('weekscores.csv')\n",
      "\n",
      "lines = vincent.Line(multi_iter1, iter_idx='index')\n",
      "lines.legend(title='Categories')\n",
      "lines.axis_titles(x='Index', y='Data Value')\n",
      "\n",
      "lines.display()\n",
      "lines.grammar()\n",
      "\n",
      "\n",
      "         "
     ],
     "language": "python",
     "metadata": {},
     "outputs": [
      {
       "javascript": [
        "$.getScript(\"http://d3js.org/d3.v3.min.js\", function() {\n",
        "        $.getScript(\"http://trifacta.github.com/vega/vega.js\", function() {\n",
        "            $([IPython.events]).trigger(\"vega_loaded.vincent\");\n",
        "        })\n",
        "    });"
       ],
       "metadata": {},
       "output_type": "display_data",
       "text": [
        "<IPython.core.display.Javascript at 0x10d6da410>"
       ]
      },
      {
       "html": [
        "<div id=\"vis25761\"></div>"
       ],
       "metadata": {},
       "output_type": "display_data",
       "text": [
        "<IPython.core.display.HTML at 0x10d660490>"
       ]
      },
      {
       "javascript": [
        "\n",
        "( function() {\n",
        "  var _do_plot = function() {\n",
        "    if ( typeof vg == 'undefined' ) {\n",
        "      $([IPython.events]).on(\"vega_loaded.vincent\", _do_plot);\n",
        "      return;\n",
        "    }\n",
        "    vg.parse.spec({\"axes\": [{\"scale\": \"x\", \"title\": \"Index\", \"type\": \"x\"}, {\"scale\": \"y\", \"title\": \"Data Value\", \"type\": \"y\"}], \"data\": [{\"name\": \"table\", \"values\": [{\"col\": \"y1\", \"idx\": 1, \"val\": 75}, {\"col\": \"y1\", \"idx\": 2, \"val\": 100}, {\"col\": \"y1\", \"idx\": 3, \"val\": 61}, {\"col\": \"y1\", \"idx\": 4, \"val\": 79}, {\"col\": \"y1\", \"idx\": 5, \"val\": 52}, {\"col\": \"y1\", \"idx\": 6, \"val\": 17}, {\"col\": \"y1\", \"idx\": 7, \"val\": 26}, {\"col\": \"y1\", \"idx\": 8, \"val\": 65}, {\"col\": \"y1\", \"idx\": 9, \"val\": 68}, {\"col\": \"y1\", \"idx\": 10, \"val\": 82}, {\"col\": \"y1\", \"idx\": 11, \"val\": 52}, {\"col\": \"y1\", \"idx\": 12, \"val\": 26}, {\"col\": \"y1\", \"idx\": 13, \"val\": 35}, {\"col\": \"y1\", \"idx\": 14, \"val\": 91}, {\"col\": \"y1\", \"idx\": 15, \"val\": 40}, {\"col\": \"y1\", \"idx\": 16, \"val\": 10}, {\"col\": \"y1\", \"idx\": 17, \"val\": 28}, {\"col\": \"y1\", \"idx\": 18, \"val\": 42}, {\"col\": \"y1\", \"idx\": 19, \"val\": 86}, {\"col\": \"y1\", \"idx\": 20, \"val\": 57}, {\"col\": \"y2\", \"idx\": 1, \"val\": 99}, {\"col\": \"y2\", \"idx\": 2, \"val\": 12}, {\"col\": \"y2\", \"idx\": 3, \"val\": 71}, {\"col\": \"y2\", \"idx\": 4, \"val\": 23}, {\"col\": \"y2\", \"idx\": 5, \"val\": 18}, {\"col\": \"y2\", \"idx\": 6, \"val\": 56}, {\"col\": \"y2\", \"idx\": 7, \"val\": 88}, {\"col\": \"y2\", \"idx\": 8, \"val\": 43}, {\"col\": \"y2\", \"idx\": 9, \"val\": 39}, {\"col\": \"y2\", \"idx\": 10, \"val\": 86}, {\"col\": \"y2\", \"idx\": 11, \"val\": 32}, {\"col\": \"y2\", \"idx\": 12, \"val\": 37}, {\"col\": \"y2\", \"idx\": 13, \"val\": 72}, {\"col\": \"y2\", \"idx\": 14, \"val\": 59}, {\"col\": \"y2\", \"idx\": 15, \"val\": 17}, {\"col\": \"y2\", \"idx\": 16, \"val\": 47}, {\"col\": \"y2\", \"idx\": 17, \"val\": 10}, {\"col\": \"y2\", \"idx\": 18, \"val\": 85}, {\"col\": \"y2\", \"idx\": 19, \"val\": 15}, {\"col\": \"y2\", \"idx\": 20, \"val\": 14}, {\"col\": \"y3\", \"idx\": 1, \"val\": 29}, {\"col\": \"y3\", \"idx\": 2, \"val\": 86}, {\"col\": \"y3\", \"idx\": 3, \"val\": 48}, {\"col\": \"y3\", \"idx\": 4, \"val\": 95}, {\"col\": \"y3\", \"idx\": 5, \"val\": 31}, {\"col\": \"y3\", \"idx\": 6, \"val\": 58}, {\"col\": \"y3\", \"idx\": 7, \"val\": 97}, {\"col\": \"y3\", \"idx\": 8, \"val\": 90}, {\"col\": \"y3\", \"idx\": 9, \"val\": 99}, {\"col\": \"y3\", \"idx\": 10, \"val\": 67}, {\"col\": \"y3\", \"idx\": 11, \"val\": 35}, {\"col\": \"y3\", \"idx\": 12, \"val\": 88}, {\"col\": \"y3\", \"idx\": 13, \"val\": 72}, {\"col\": \"y3\", \"idx\": 14, \"val\": 75}, {\"col\": \"y3\", \"idx\": 15, \"val\": 49}, {\"col\": \"y3\", \"idx\": 16, \"val\": 62}, {\"col\": \"y3\", \"idx\": 17, \"val\": 15}, {\"col\": \"y3\", \"idx\": 18, \"val\": 86}, {\"col\": \"y3\", \"idx\": 19, \"val\": 21}, {\"col\": \"y3\", \"idx\": 20, \"val\": 99}, {\"col\": \"y4\", \"idx\": 1, \"val\": 32}, {\"col\": \"y4\", \"idx\": 2, \"val\": 92}, {\"col\": \"y4\", \"idx\": 3, \"val\": 40}, {\"col\": \"y4\", \"idx\": 4, \"val\": 16}, {\"col\": \"y4\", \"idx\": 5, \"val\": 91}, {\"col\": \"y4\", \"idx\": 6, \"val\": 34}, {\"col\": \"y4\", \"idx\": 7, \"val\": 89}, {\"col\": \"y4\", \"idx\": 8, \"val\": 34}, {\"col\": \"y4\", \"idx\": 9, \"val\": 54}, {\"col\": \"y4\", \"idx\": 10, \"val\": 49}, {\"col\": \"y4\", \"idx\": 11, \"val\": 69}, {\"col\": \"y4\", \"idx\": 12, \"val\": 71}, {\"col\": \"y4\", \"idx\": 13, \"val\": 30}, {\"col\": \"y4\", \"idx\": 14, \"val\": 51}, {\"col\": \"y4\", \"idx\": 15, \"val\": 90}, {\"col\": \"y4\", \"idx\": 16, \"val\": 99}, {\"col\": \"y4\", \"idx\": 17, \"val\": 23}, {\"col\": \"y4\", \"idx\": 18, \"val\": 62}, {\"col\": \"y4\", \"idx\": 19, \"val\": 59}, {\"col\": \"y4\", \"idx\": 20, \"val\": 75}]}], \"height\": 500, \"legends\": [{\"fill\": \"color\", \"offset\": 0, \"title\": \"Categories\"}], \"marks\": [{\"from\": {\"data\": \"table\", \"transform\": [{\"keys\": [\"data.col\"], \"type\": \"facet\"}]}, \"marks\": [{\"properties\": {\"enter\": {\"stroke\": {\"field\": \"data.col\", \"scale\": \"color\"}, \"strokeWidth\": {\"value\": 2}, \"x\": {\"field\": \"data.idx\", \"scale\": \"x\"}, \"y\": {\"field\": \"data.val\", \"scale\": \"y\"}}}, \"type\": \"line\"}], \"type\": \"group\"}], \"padding\": {\"bottom\": 50, \"left\": 50, \"right\": 100, \"top\": 10}, \"scales\": [{\"domain\": {\"data\": \"table\", \"field\": \"data.idx\"}, \"name\": \"x\", \"range\": \"width\", \"type\": \"linear\"}, {\"domain\": {\"data\": \"table\", \"field\": \"data.val\"}, \"name\": \"y\", \"nice\": true, \"range\": \"height\", \"type\": \"linear\"}, {\"domain\": {\"data\": \"table\", \"field\": \"data.col\"}, \"name\": \"color\", \"range\": \"category20\", \"type\": \"ordinal\"}], \"width\": 960}, function(chart) {\n",
        "      chart({el: \"#vis25761\"}).update();\n",
        "    });\n",
        "  };\n",
        "  _do_plot();\n",
        "})();\n"
       ],
       "metadata": {},
       "output_type": "display_data",
       "text": [
        "<IPython.core.display.Javascript at 0x10d660890>"
       ]
      },
      {
       "metadata": {},
       "output_type": "pyout",
       "prompt_number": 48,
       "text": [
        "{u'axes': [{u'scale': u'x', u'title': u'Index', u'type': u'x'},\n",
        "  {u'scale': u'y', u'title': u'Data Value', u'type': u'y'}],\n",
        " u'data': [{u'name': u'table',\n",
        "   u'values': [{u'col': u'y1', u'idx': 1, u'val': 75},\n",
        "    {u'col': u'y1', u'idx': 2, u'val': 100},\n",
        "    {u'col': u'y1', u'idx': 3, u'val': 61},\n",
        "    {u'col': u'y1', u'idx': 4, u'val': 79},\n",
        "    {u'col': u'y1', u'idx': 5, u'val': 52},\n",
        "    {u'col': u'y1', u'idx': 6, u'val': 17},\n",
        "    {u'col': u'y1', u'idx': 7, u'val': 26},\n",
        "    {u'col': u'y1', u'idx': 8, u'val': 65},\n",
        "    {u'col': u'y1', u'idx': 9, u'val': 68},\n",
        "    {u'col': u'y1', u'idx': 10, u'val': 82},\n",
        "    {u'col': u'y1', u'idx': 11, u'val': 52},\n",
        "    {u'col': u'y1', u'idx': 12, u'val': 26},\n",
        "    {u'col': u'y1', u'idx': 13, u'val': 35},\n",
        "    {u'col': u'y1', u'idx': 14, u'val': 91},\n",
        "    {u'col': u'y1', u'idx': 15, u'val': 40},\n",
        "    {u'col': u'y1', u'idx': 16, u'val': 10},\n",
        "    {u'col': u'y1', u'idx': 17, u'val': 28},\n",
        "    {u'col': u'y1', u'idx': 18, u'val': 42},\n",
        "    {u'col': u'y1', u'idx': 19, u'val': 86},\n",
        "    {u'col': u'y1', u'idx': 20, u'val': 57},\n",
        "    {u'col': u'y2', u'idx': 1, u'val': 99},\n",
        "    {u'col': u'y2', u'idx': 2, u'val': 12},\n",
        "    {u'col': u'y2', u'idx': 3, u'val': 71},\n",
        "    {u'col': u'y2', u'idx': 4, u'val': 23},\n",
        "    {u'col': u'y2', u'idx': 5, u'val': 18},\n",
        "    {u'col': u'y2', u'idx': 6, u'val': 56},\n",
        "    {u'col': u'y2', u'idx': 7, u'val': 88},\n",
        "    {u'col': u'y2', u'idx': 8, u'val': 43},\n",
        "    {u'col': u'y2', u'idx': 9, u'val': 39},\n",
        "    {u'col': u'y2', u'idx': 10, u'val': 86},\n",
        "    {u'col': u'y2', u'idx': 11, u'val': 32},\n",
        "    {u'col': u'y2', u'idx': 12, u'val': 37},\n",
        "    {u'col': u'y2', u'idx': 13, u'val': 72},\n",
        "    {u'col': u'y2', u'idx': 14, u'val': 59},\n",
        "    {u'col': u'y2', u'idx': 15, u'val': 17},\n",
        "    {u'col': u'y2', u'idx': 16, u'val': 47},\n",
        "    {u'col': u'y2', u'idx': 17, u'val': 10},\n",
        "    {u'col': u'y2', u'idx': 18, u'val': 85},\n",
        "    {u'col': u'y2', u'idx': 19, u'val': 15},\n",
        "    {u'col': u'y2', u'idx': 20, u'val': 14},\n",
        "    {u'col': u'y3', u'idx': 1, u'val': 29},\n",
        "    {u'col': u'y3', u'idx': 2, u'val': 86},\n",
        "    {u'col': u'y3', u'idx': 3, u'val': 48},\n",
        "    {u'col': u'y3', u'idx': 4, u'val': 95},\n",
        "    {u'col': u'y3', u'idx': 5, u'val': 31},\n",
        "    {u'col': u'y3', u'idx': 6, u'val': 58},\n",
        "    {u'col': u'y3', u'idx': 7, u'val': 97},\n",
        "    {u'col': u'y3', u'idx': 8, u'val': 90},\n",
        "    {u'col': u'y3', u'idx': 9, u'val': 99},\n",
        "    {u'col': u'y3', u'idx': 10, u'val': 67},\n",
        "    {u'col': u'y3', u'idx': 11, u'val': 35},\n",
        "    {u'col': u'y3', u'idx': 12, u'val': 88},\n",
        "    {u'col': u'y3', u'idx': 13, u'val': 72},\n",
        "    {u'col': u'y3', u'idx': 14, u'val': 75},\n",
        "    {u'col': u'y3', u'idx': 15, u'val': 49},\n",
        "    {u'col': u'y3', u'idx': 16, u'val': 62},\n",
        "    {u'col': u'y3', u'idx': 17, u'val': 15},\n",
        "    {u'col': u'y3', u'idx': 18, u'val': 86},\n",
        "    {u'col': u'y3', u'idx': 19, u'val': 21},\n",
        "    {u'col': u'y3', u'idx': 20, u'val': 99},\n",
        "    {u'col': u'y4', u'idx': 1, u'val': 32},\n",
        "    {u'col': u'y4', u'idx': 2, u'val': 92},\n",
        "    {u'col': u'y4', u'idx': 3, u'val': 40},\n",
        "    {u'col': u'y4', u'idx': 4, u'val': 16},\n",
        "    {u'col': u'y4', u'idx': 5, u'val': 91},\n",
        "    {u'col': u'y4', u'idx': 6, u'val': 34},\n",
        "    {u'col': u'y4', u'idx': 7, u'val': 89},\n",
        "    {u'col': u'y4', u'idx': 8, u'val': 34},\n",
        "    {u'col': u'y4', u'idx': 9, u'val': 54},\n",
        "    {u'col': u'y4', u'idx': 10, u'val': 49},\n",
        "    {u'col': u'y4', u'idx': 11, u'val': 69},\n",
        "    {u'col': u'y4', u'idx': 12, u'val': 71},\n",
        "    {u'col': u'y4', u'idx': 13, u'val': 30},\n",
        "    {u'col': u'y4', u'idx': 14, u'val': 51},\n",
        "    {u'col': u'y4', u'idx': 15, u'val': 90},\n",
        "    {u'col': u'y4', u'idx': 16, u'val': 99},\n",
        "    {u'col': u'y4', u'idx': 17, u'val': 23},\n",
        "    {u'col': u'y4', u'idx': 18, u'val': 62},\n",
        "    {u'col': u'y4', u'idx': 19, u'val': 59},\n",
        "    {u'col': u'y4', u'idx': 20, u'val': 75}]}],\n",
        " u'height': 500,\n",
        " u'legends': [{u'fill': u'color', u'offset': 0, u'title': u'Categories'}],\n",
        " u'marks': [{u'from': {u'data': u'table',\n",
        "    u'transform': [{u'keys': [u'data.col'], u'type': u'facet'}]},\n",
        "   u'marks': [{u'properties': {u'enter': {u'stroke': {u'field': u'data.col',\n",
        "        u'scale': u'color'},\n",
        "       u'strokeWidth': {u'value': 2},\n",
        "       u'x': {u'field': u'data.idx', u'scale': u'x'},\n",
        "       u'y': {u'field': u'data.val', u'scale': u'y'}}},\n",
        "     u'type': u'line'}],\n",
        "   u'type': u'group'}],\n",
        " u'padding': {u'bottom': 50, u'left': 50, u'right': 100, u'top': 10},\n",
        " u'scales': [{u'domain': {u'data': u'table', u'field': u'data.idx'},\n",
        "   u'name': u'x',\n",
        "   u'range': u'width',\n",
        "   u'type': u'linear'},\n",
        "  {u'domain': {u'data': u'table', u'field': u'data.val'},\n",
        "   u'name': u'y',\n",
        "   u'nice': True,\n",
        "   u'range': u'height',\n",
        "   u'type': u'linear'},\n",
        "  {u'domain': {u'data': u'table', u'field': u'data.col'},\n",
        "   u'name': u'color',\n",
        "   u'range': u'category20',\n",
        "   u'type': u'ordinal'}],\n",
        " u'width': 960}"
       ]
      }
     ],
     "prompt_number": 48
    },
    {
     "cell_type": "code",
     "collapsed": false,
     "input": [],
     "language": "python",
     "metadata": {},
     "outputs": []
    }
   ],
   "metadata": {}
  }
 ]
}