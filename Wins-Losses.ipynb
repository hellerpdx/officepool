{
 "metadata": {
  "name": ""
 },
 "nbformat": 3,
 "nbformat_minor": 0,
 "worksheets": [
  {
   "cells": [
    {
     "cell_type": "code",
     "collapsed": false,
     "input": [
      "import redis\n",
      "import vincent\n",
      "import pandas as pd\n",
      "import numpy as np\n",
      "from matplotlib import pyplot as plt\n",
      "\n",
      "r = redis.StrictRedis(host='localhost', port=6379, db=0)"
     ],
     "language": "python",
     "metadata": {},
     "outputs": [
      {
       "metadata": {},
       "output_type": "pyout",
       "prompt_number": 19,
       "text": [
        "['incorrect', 'correct', 'totalpicks']"
       ]
      }
     ],
     "prompt_number": 19
    },
    {
     "cell_type": "code",
     "collapsed": false,
     "input": [
      "losses = r.zrevrange('incorrect',0,-1,withscores=True)\n",
      "wins = r.zrevrange('correct',0,-1,withscores=True)"
     ],
     "language": "python",
     "metadata": {},
     "outputs": [],
     "prompt_number": 20
    },
    {
     "cell_type": "code",
     "collapsed": false,
     "input": [
      "totals = r.zrevrange('totalpicks',0,-1,withscores=True)\n",
      "teams = r.zrange('totalpicks',0,-1)"
     ],
     "language": "python",
     "metadata": {},
     "outputs": [],
     "prompt_number": 21
    },
    {
     "cell_type": "code",
     "collapsed": false,
     "input": [
      "scores = []\n",
      "for i in teams:\n",
      "    scores.append([i, int(r.zscore('correct',i)), int(r.zscore('incorrect',i))])\n",
      "scores\n",
      "\n",
      "gdata = zip(*scores) "
     ],
     "language": "python",
     "metadata": {},
     "outputs": [],
     "prompt_number": 22
    },
    {
     "cell_type": "code",
     "collapsed": false,
     "input": [
      "fig, ax = plt.subplots()\n",
      "plt.axis([0,1000,0,1000])\n",
      "ax.scatter(gdata[1],gdata[2])\n",
      "ax.plot([0,907],[907,0], 'g--')\n",
      "# ax.axhline(y=500)\n",
      "# ax.axvline(x=500)\n",
      "ax.set_xlabel('Correct Picks')\n",
      "ax.set_ylabel('Incorrect Picks')\n",
      "\n",
      "for i, txt in enumerate(gdata[0]):\n",
      "    ax.annotate(txt, xy=(gdata[1][i],gdata[2][i]),xytext=(0,10),textcoords='offset points', \\\n",
      "                arrowprops=dict(arrowstyle= '->', connectionstyle='arc3,rad=0'))\n",
      "\n",
      "plt.show()"
     ],
     "language": "python",
     "metadata": {},
     "outputs": [],
     "prompt_number": 46
    },
    {
     "cell_type": "code",
     "collapsed": false,
     "input": [
      "ctotal = 0\n",
      "inctotal = 0\n",
      "for i in r.zrange('correct',0,-1,withscores=True):\n",
      "    ctotal += int(i[1])\n",
      "for i in r.zrange('incorrect',0,-1,withscores=True):\n",
      "    inctotal += int(i[1])\n",
      "\n",
      "print \"Correct:\",ctotal\n",
      "print \"Incorrect:\",inctotal\n",
      "print \"Total:\", ctotal + inctotal\n"
     ],
     "language": "python",
     "metadata": {},
     "outputs": [
      {
       "output_type": "stream",
       "stream": "stdout",
       "text": [
        "Correct: 14147\n",
        "Incorrect: 14882\n",
        "Total: 29029\n"
       ]
      }
     ],
     "prompt_number": 49
    },
    {
     "cell_type": "code",
     "collapsed": false,
     "input": [],
     "language": "python",
     "metadata": {},
     "outputs": []
    }
   ],
   "metadata": {}
  }
 ]
}