{
 "metadata": {
  "name": ""
 },
 "nbformat": 3,
 "nbformat_minor": 0,
 "worksheets": [
  {
   "cells": [
    {
     "cell_type": "code",
     "collapsed": false,
     "input": [
      "import redis\n",
      "import vincent\n",
      "import pandas as pd\n",
      "import numpy as np\n",
      "from matplotlib import pyplot as plt\n",
      "\n",
      "r = redis.StrictRedis(host='localhost', port=6379, db=0)"
     ],
     "language": "python",
     "metadata": {},
     "outputs": [],
     "prompt_number": 2
    },
    {
     "cell_type": "code",
     "collapsed": false,
     "input": [
      "losses = r.zrevrange('incorrect',0,-1,withscores=True)\n",
      "wins = r.zrevrange('correct',0,-1,withscores=True)\n",
      "wins"
     ],
     "language": "python",
     "metadata": {},
     "outputs": [
      {
       "metadata": {},
       "output_type": "pyout",
       "prompt_number": 5,
       "text": [
        "[('DAL', 898.0),\n",
        " ('KC', 861.0),\n",
        " ('SF', 845.0),\n",
        " ('DEN', 735.0),\n",
        " ('NO', 692.0),\n",
        " ('NE', 627.0),\n",
        " ('IND', 623.0),\n",
        " ('CIN', 578.0),\n",
        " ('GB', 567.0),\n",
        " ('SD', 553.0),\n",
        " ('SEA', 506.0),\n",
        " ('CAR', 496.0),\n",
        " ('DET', 491.0),\n",
        " ('BUF', 489.0),\n",
        " ('TEN', 457.0),\n",
        " ('BAL', 453.0),\n",
        " ('ARI', 453.0),\n",
        " ('OAK', 365.0),\n",
        " ('NYJ', 356.0),\n",
        " ('PHI', 350.0),\n",
        " ('CLE', 336.0),\n",
        " ('NYG', 322.0),\n",
        " ('ATL', 320.0),\n",
        " ('MIN', 309.0),\n",
        " ('MIA', 274.0),\n",
        " ('WAS', 246.0),\n",
        " ('STL', 241.0),\n",
        " ('CHI', 228.0),\n",
        " ('PIT', 148.0),\n",
        " ('JAC', 119.0),\n",
        " ('HOU', 105.0),\n",
        " ('TB', 104.0)]"
       ]
      }
     ],
     "prompt_number": 5
    },
    {
     "cell_type": "code",
     "collapsed": false,
     "input": [
      "teams = r.zrange('correct',0,-1)\n",
      "teams"
     ],
     "language": "python",
     "metadata": {},
     "outputs": [
      {
       "metadata": {},
       "output_type": "pyout",
       "prompt_number": 7,
       "text": [
        "['TB',\n",
        " 'HOU',\n",
        " 'JAC',\n",
        " 'PIT',\n",
        " 'CHI',\n",
        " 'STL',\n",
        " 'WAS',\n",
        " 'MIA',\n",
        " 'MIN',\n",
        " 'ATL',\n",
        " 'NYG',\n",
        " 'CLE',\n",
        " 'PHI',\n",
        " 'NYJ',\n",
        " 'OAK',\n",
        " 'ARI',\n",
        " 'BAL',\n",
        " 'TEN',\n",
        " 'BUF',\n",
        " 'DET',\n",
        " 'CAR',\n",
        " 'SEA',\n",
        " 'SD',\n",
        " 'GB',\n",
        " 'CIN',\n",
        " 'IND',\n",
        " 'NE',\n",
        " 'NO',\n",
        " 'DEN',\n",
        " 'SF',\n",
        " 'KC',\n",
        " 'DAL']"
       ]
      }
     ],
     "prompt_number": 7
    },
    {
     "cell_type": "code",
     "collapsed": false,
     "input": [
      "scores = []\n",
      "for i in teams:\n",
      "    scores.append([i, int(r.zscore('correct',i)), int(r.zscore('incorrect',i))])\n",
      "scores\n",
      "\n",
      "gdata = zip(*scores) "
     ],
     "language": "python",
     "metadata": {},
     "outputs": [],
     "prompt_number": 8
    },
    {
     "cell_type": "code",
     "collapsed": false,
     "input": [
      "fig, ax = plt.subplots()\n",
      "plt.axis([0,1000,0,1000])\n",
      "ax.scatter(gdata[1],gdata[2])\n",
      "ax.plot([0,907],[907,0], 'g--')\n",
      "# ax.axhline(y=500)\n",
      "# ax.axvline(x=500)\n",
      "ax.set_xlabel('Correct Picks')\n",
      "ax.set_ylabel('Incorrect Picks')\n",
      "\n",
      "for i, txt in enumerate(gdata[0]):\n",
      "    ax.annotate(txt, xy=(gdata[1][i],gdata[2][i]),xytext=(0,10),textcoords='offset points', \\\n",
      "                arrowprops=dict(arrowstyle= '->', connectionstyle='arc3,rad=0'))\n",
      "\n",
      "plt.show()"
     ],
     "language": "python",
     "metadata": {},
     "outputs": [],
     "prompt_number": 12
    },
    {
     "cell_type": "code",
     "collapsed": false,
     "input": [
      "ctotal = 0\n",
      "inctotal = 0\n",
      "for i in r.zrange('correct',0,-1,withscores=True):\n",
      "    ctotal += int(i[1])\n",
      "for i in r.zrange('incorrect',0,-1,withscores=True):\n",
      "    inctotal += int(i[1])\n",
      "\n",
      "print \"Correct:\",ctotal\n",
      "print \"Incorrect:\",inctotal\n",
      "print \"Total:\", ctotal + inctotal\n"
     ],
     "language": "python",
     "metadata": {},
     "outputs": [
      {
       "output_type": "stream",
       "stream": "stdout",
       "text": [
        "Correct: 14147\n",
        "Incorrect: 14882\n",
        "Total: 29029\n"
       ]
      }
     ],
     "prompt_number": 11
    },
    {
     "cell_type": "code",
     "collapsed": false,
     "input": [],
     "language": "python",
     "metadata": {},
     "outputs": []
    }
   ],
   "metadata": {}
  }
 ]
}